{
 "cells": [
  {
   "cell_type": "code",
   "execution_count": 7,
   "metadata": {},
   "outputs": [
    {
     "name": "stdout",
     "output_type": "stream",
     "text": [
      "Shape of dataset: (62848, 15)\n",
      "Columns available: Index(['Unnamed: 0', 'n', 'bounds', 'lowres_date', 'highres_date', 'area',\n",
      "       'cloud_cover', 'delta', 'lon', 'lat', 'LCCS', 'SMOD', 'IPCC Class',\n",
      "       'LCCS class', 'SMOD Class'],\n",
      "      dtype='object')\n",
      "           Unnamed: 0  n                                             bounds  \\\n",
      "0  Amnesty POI-10-1-1  1  [105.84161265950597, 13.147748954631947, 105.8...   \n",
      "1  Amnesty POI-10-1-1  2  [105.84161265950597, 13.147748954631947, 105.8...   \n",
      "2  Amnesty POI-10-1-1  3  [105.84161265950597, 13.147748954631947, 105.8...   \n",
      "3  Amnesty POI-10-1-1  4  [105.84161265950597, 13.147748954631947, 105.8...   \n",
      "4  Amnesty POI-10-1-1  5  [105.84161265950597, 13.147748954631947, 105.8...   \n",
      "\n",
      "  lowres_date highres_date  area  cloud_cover  delta         lon        lat  \\\n",
      "0  2019-01-06   2019-01-27   2.5         0.06    -21  105.848905  13.154895   \n",
      "1  2019-02-15   2019-01-27   2.5         0.15     19  105.848905  13.154895   \n",
      "2  2019-01-31   2019-01-27   2.5         6.26      4  105.848905  13.154895   \n",
      "3  2018-12-17   2019-01-27   2.5         0.73    -41  105.848905  13.154895   \n",
      "4  2018-12-02   2019-01-27   2.5         0.11    -56  105.848905  13.154895   \n",
      "\n",
      "   LCCS  SMOD IPCC Class                                         LCCS class  \\\n",
      "0    50    11     Forest  Tree cover, broadleaved, evergreen, closed to ...   \n",
      "1    50    11     Forest  Tree cover, broadleaved, evergreen, closed to ...   \n",
      "2    50    11     Forest  Tree cover, broadleaved, evergreen, closed to ...   \n",
      "3    50    11     Forest  Tree cover, broadleaved, evergreen, closed to ...   \n",
      "4    50    11     Forest  Tree cover, broadleaved, evergreen, closed to ...   \n",
      "\n",
      "             SMOD Class  \n",
      "0  Rural: Very Low Dens  \n",
      "1  Rural: Very Low Dens  \n",
      "2  Rural: Very Low Dens  \n",
      "3  Rural: Very Low Dens  \n",
      "4  Rural: Very Low Dens  \n"
     ]
    }
   ],
   "source": [
    "import pandas as pd\n",
    "\n",
    "# Go up one folder and then into Data\n",
    "metadata_path = \"../Data/metadata.csv\"\n",
    "df = pd.read_csv(metadata_path)\n",
    "\n",
    "print(\"Shape of dataset:\", df.shape)\n",
    "print(\"Columns available:\", df.columns)\n",
    "print(df.head())\n"
   ]
  },
  {
   "cell_type": "code",
   "execution_count": 8,
   "metadata": {},
   "outputs": [
    {
     "name": "stdout",
     "output_type": "stream",
     "text": [
      "IPCC Classes:\n",
      "['Forest' 'Agriculture' 'Settlement' 'Water' 'Other' 'Grassland' 'Wetland'\n",
      " nan]\n",
      "\n",
      "LCCS Classes:\n",
      "['Tree cover, broadleaved, evergreen, closed to open (>15%)'\n",
      " 'Tree cover, flooded, fresh or brakish water' 'Herbaceous cover'\n",
      " 'Mosaic natural vegetation (tree, shrub, herbaceous cover) (>50%) / cropland (<50%)'\n",
      " 'Cropland, rainfed' 'Urban areas' 'Cropland, irrigated or post‐flooding'\n",
      " 'Water bodies' 'Bare areas' 'Grassland'\n",
      " 'Mosaic herbaceous cover (>50%) / tree and shrub (<50%)' 'Shrubland'\n",
      " 'Shrub or herbaceous cover, flooded, fresh/saline/brakish water'\n",
      " 'Tree cover, needleleaved, evergreen, closed to open (>15%)'\n",
      " 'Mosaic cropland (>50%) / natural vegetation (tree, shrub, herbaceous cover) (<50%)'\n",
      " 'Mosaic tree and shrub (>50%) / herbaceous cover (<50%)'\n",
      " 'Deciduous shrubland' 'Sparse shrub (<15%)'\n",
      " 'Tree cover, broadleaved, deciduous, closed to open (>15%)'\n",
      " 'Permanent snow and ice' 'Sparse herbaceous cover (<15%)'\n",
      " 'Sparse vegetation (tree, shrub, herbaceous cover) (<15%)'\n",
      " 'Tree or shrub cover'\n",
      " 'Tree cover, mixed leaf type (broadleaved and needleleaved)'\n",
      " 'Consolidated bare areas'\n",
      " 'Tree cover, broadleaved, deciduous, open (15‐40%)' 'Lichens and mosses'\n",
      " 'Tree cover, needleleaved, deciduous, closed to open (>15%)'\n",
      " 'Evergreen shrubland' 'Tree cover, broadleaved, deciduous, closed (>40%)'\n",
      " 'Tree cover, flooded, saline water' 'Unconsolidated bare areas'\n",
      " 'Tree cover, needleleaved, evergreen, closed (>40%)'\n",
      " 'Tree cover, needleleaved, deciduous, closed (>40%)']\n"
     ]
    }
   ],
   "source": [
    "# Unique IPCC classes\n",
    "print(\"IPCC Classes:\")\n",
    "print(df['IPCC Class'].unique())\n",
    "\n",
    "# Unique detailed LCCS classes\n",
    "print(\"\\nLCCS Classes:\")\n",
    "print(df['LCCS class'].unique())\n"
   ]
  },
  {
   "cell_type": "code",
   "execution_count": 6,
   "metadata": {},
   "outputs": [
    {
     "name": "stdout",
     "output_type": "stream",
     "text": [
      "/Users/parthivsharma/Documents/GitHub/GreenGuard-AI/notebooks\n"
     ]
    }
   ],
   "source": [
    "import os\n",
    "print(os.getcwd())\n"
   ]
  }
 ],
 "metadata": {
  "kernelspec": {
   "display_name": "venv",
   "language": "python",
   "name": "python3"
  },
  "language_info": {
   "codemirror_mode": {
    "name": "ipython",
    "version": 3
   },
   "file_extension": ".py",
   "mimetype": "text/x-python",
   "name": "python",
   "nbconvert_exporter": "python",
   "pygments_lexer": "ipython3",
   "version": "3.13.5"
  }
 },
 "nbformat": 4,
 "nbformat_minor": 2
}
